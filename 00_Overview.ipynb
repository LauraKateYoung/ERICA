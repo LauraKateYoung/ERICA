{
 "cells": [
  {
   "cell_type": "markdown",
   "metadata": {},
   "source": [
    "# Overview of the examples\n",
    "Below is a flow chart outlining the Jupyter notebook examples that demonstrate the use of ERICA. The relevant inputs and outputs at each stage are given and are also colour coded in the notebooks. In these examples the outputs on the right-hand-side are saved to file and then read in by the later notebooks.\n",
    "\n",
    "A end-to-end example Python script can also be found in this repository, showing how to generate a 'standard' dataset. The individual notebooks, outlined below, work through each stage of ERICA. The aim of these is to be transparent about how data are generated and to aid anyone who might want to change various parameters or aspects of how the images are generated. You can also use the python help function on any of the functions and methods within ERICA, e.g., to check what input arguments are expected and what is returned. You can also read the code directly to see what it is doing. Source files are in the \"ERICA\" directory (the directory structure of ERICA should not be changed).\n",
    "\n",
    "![flow_chart.png](flow_chart.png)"
   ]
  },
  {
   "cell_type": "code",
   "execution_count": null,
   "metadata": {},
   "outputs": [],
   "source": []
  },
  {
   "cell_type": "code",
   "execution_count": null,
   "metadata": {},
   "outputs": [],
   "source": []
  },
  {
   "cell_type": "code",
   "execution_count": null,
   "metadata": {},
   "outputs": [],
   "source": []
  }
 ],
 "metadata": {
  "kernelspec": {
   "display_name": "Python 3 (ipykernel)",
   "language": "python",
   "name": "python3"
  },
  "language_info": {
   "codemirror_mode": {
    "name": "ipython",
    "version": 3
   },
   "file_extension": ".py",
   "mimetype": "text/x-python",
   "name": "python",
   "nbconvert_exporter": "python",
   "pygments_lexer": "ipython3",
   "version": "3.8.13"
  }
 },
 "nbformat": 4,
 "nbformat_minor": 2
}

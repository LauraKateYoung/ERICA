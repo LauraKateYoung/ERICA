{
 "cells": [
  {
   "cell_type": "markdown",
   "metadata": {
    "deletable": false,
    "editable": false
   },
   "source": [
    "# 1. Setting up your AOSLO\n",
    "\n",
    "This notebook guides you through setting up and examining the parameters of your synthetic AOSLO. This will create the system parameters file and save it in the folder \"System_parameters\". \n",
    "\n",
    "These Jupyter notebooks use \"system_parameters_demo.yaml\" by default, which matches the AOSLO described in the ERICA publication:\n",
    "\n",
    "Laura K. Young & Hannah E. Smithson, \"Emulated retinal image capture (ERICA) to test, train and validate processing of retinal images,\" Sci Rep 11, 11225 (2021).\n",
    "https://www.nature.com/articles/s41598-021-90389-y\n",
    "\n",
    "and the related instrument paper:\n",
    "\n",
    "Laura K. Young, Timothy J. Morris, Christopher D. Saunter, and Hannah E. Smithson, \"Compact, modular and in-plane AOSLO for high-resolution retinal imaging,\" Biomed. Opt. Express 9, 4275-4293 (2018)\n",
    "https://www.osapublishing.org/boe/fulltext.cfm?uri=boe-9-9-4275&id=396246\n",
    "\n",
    "\n",
    "First we start by importing the relevant modules:"
   ]
  },
  {
   "cell_type": "code",
   "execution_count": 1,
   "metadata": {},
   "outputs": [],
   "source": [
    "# Set matplotlib up\n",
    "%matplotlib inline\n",
    "\n",
    "import numpy\n",
    "import yaml\n",
    "import os\n",
    "import sys\n",
    "\n",
    "from matplotlib import pyplot\n",
    "\n",
    "from ERICA import AOSLO_system\n",
    "\n",
    "# In these examples we will work from the current working directory\n",
    "current_directory = os.getcwd()"
   ]
  },
  {
   "cell_type": "markdown",
   "metadata": {
    "deletable": false,
    "editable": false
   },
   "source": [
    "## 1.1 The system parameter file\n",
    "\n",
    "The system parameter file contains information about the AOSLO that you are trying to emulate, such as the imaging wavelength, pupil diameter, pinhole size and scanner configuration. The file (.yaml) is interpreted as a python dictionary, you'll see later how to retrieve information from it. \n",
    "\n",
    "An example system parameter file is given in the \"System_parameters\" directory. To create your own parameter file for your system you can copy and edit the file directly - yaml files are human readable and can be opened in a text editor. This is the easiest option, but be careful to maintain the same structure in the file. \n",
    "\n",
    "Alternatively you can create the parameter file from scratch using the example below. The system parameters are stored in a dictionary, the keys should not be altered but they should be self explanatory and they include the units in the name:\n",
    "<ul>\n",
    "<li><strong>'frequency_fast_scanner_Hz'</strong>: The frequency of the resonant scanner (Hz)</li>\n",
    "<li><strong>'pinhole_diameter_Airy_radii'</strong>: The diameter of the confocal pinhole in units of the Airy radius.</li>\n",
    "<li><strong>'microns_per_degree'</strong>: The conversion factor between angular and spatial units (microns/degree).</li>\n",
    "<li><strong>'number_pixels_per_line'</strong>: The number of temporal samples per scan line. Here we consider a single scan line in one direction, i.e. half the period of the resonant scanner.</li>\n",
    "<li><strong>'number_scan_lines_excluding_flyback'</strong>: The number of scan lines in the image, assuming that the return path of the slow scanner (i.e. the fast flyback of the galvo) is not included and assuming that only the scan lines in a single direction are used.</li>\n",
    "<li><strong>'number_scan_lines_including_flyback'</strong>: The number of (single direction) scan lines in one complete cycle of the slow scanner, i.e., the ratio of the resonant scanner frequency (typically around 16 kHz) to the slow scanner frequency (typically around 30 Hz).</li>\n",
    "<li><strong>'pixel_size_arcmin_y_x'</strong>: The size of a pixel (vertical, horizontal), which can be non-square (arcminutes).\n",
    "<li><strong>'wavelength_m'</strong>: The wavelength of the imaging light (metres).</li>\n",
    "<li><strong>'pupil_diameter_m'</strong>: The diameter of the eye pupil (metres)</li>\n",
    "<li><strong>'noise_mean_normalised_graylevels'</strong>: The mean intensity value of a 'blank' frame containing only noise (gray levels, normalised to the range 0-1)</li>\n",
    "<li><strong>'noise_stdev_normalised_graylevels'</strong>: The standard deviation of the intensity values of a 'blank' frame containing only noise (gray levels, normalised to the range 0-1).</li>\n",
    "<li><strong>'bit_depth'</strong>: The bit depth of the intensity data (the default is 8-bit imaging).</li>\n",
    "<li><strong>'proportion_saturated_pixels'</strong>: The proportion of samples that are saturated. This will vary between imaging sessions depending on the detector gain and illumination power etc.</li>\n",
    "</ul>  \n",
    "\n"
   ]
  },
  {
   "cell_type": "code",
   "execution_count": 2,
   "metadata": {},
   "outputs": [],
   "source": [
    "# Create the dictionary\n",
    "parameters = {\n",
    "    'frequency_fast_scanner_Hz' : 16000,\n",
    "    'pinhole_diameter_Airy_radii' : 2.0,\n",
    "    'microns_per_degree': 297.0,\n",
    "    'number_pixels_per_line': 512,\n",
    "    'number_scan_lines_excluding_flyback' : 512,\n",
    "    'number_scan_lines_including_flyback' : 525,\n",
    "    'pixel_size_arcmin_y_x' : [0.12, 0.12],\n",
    "    'wavelength_m' : 8.4e-07,\n",
    "    'pupil_diameter_m' : 7.0e-3,\n",
    "    'noise_mean_normalised_graylevels' :0.35,\n",
    "    'noise_stdev_normalised_graylevels' : 0.07,\n",
    "    'bit_depth' : 8,\n",
    "    'proportion_saturated_pixels' : 0.02,\n",
    "    }\n"
   ]
  },
  {
   "cell_type": "markdown",
   "metadata": {
    "deletable": false,
    "editable": false
   },
   "source": [
    "This can be saved as a yaml file (<span style='background-color:rgb(206,190,218)'>system parameter file</span>):"
   ]
  },
  {
   "cell_type": "code",
   "execution_count": 3,
   "metadata": {},
   "outputs": [
    {
     "name": "stdout",
     "output_type": "stream",
     "text": [
      "Saving system parameters to file: /Users/laurayoung/Documents/Repositories/erica_final/System_parameters/system_parameters_myAOSLO.yaml\n"
     ]
    }
   ],
   "source": [
    "# Choose a name for your system parameter file\n",
    "my_parameter_filename = 'system_parameters_myAOSLO.yaml'\n",
    "\n",
    "# Specify the path to the file - here we are placing it in the 'Parameters' directory. \n",
    "# Note that we use os.path.normpath to ensure that this works properly across platforms\n",
    "my_parameter_file = os.path.normpath(os.path.join(current_directory, 'System_parameters', my_parameter_filename))\n",
    "\n",
    "# Write it to the file\n",
    "with open(my_parameter_file, 'w') as f:\n",
    "    yaml.safe_dump(parameters, f)\n",
    "    sys.stdout.write('Saving system parameters to file: %s\\n'%my_parameter_file)\n"
   ]
  },
  {
   "cell_type": "markdown",
   "metadata": {
    "deletable": false
   },
   "source": [
    "## 1.2 Creating a synthetic AOSLO\n",
    "When running ERICA, the first thing to do is 'create' an AOSLO. Here we create an instance of an AOSLO object using the parameters that are saved in <span style='background-color:rgb(206,190,218)'>system_parameters_demo.yaml</span> in the \"System_parameters\" directory. You can swap in a different file name if you want to look at your own AOSLO."
   ]
  },
  {
   "cell_type": "code",
   "execution_count": 4,
   "metadata": {},
   "outputs": [
    {
     "name": "stdout",
     "output_type": "stream",
     "text": [
      "Using parameter file: /Users/laurayoung/Documents/Repositories/erica_final/System_parameters/system_parameters_demo.yaml\n"
     ]
    }
   ],
   "source": [
    "# Specify the parameter file to use\n",
    "system_parameters_file = os.path.normpath(os.path.join(current_directory, 'System_parameters', 'system_parameters_demo.yaml'))\n",
    "sys.stdout.write('Using parameter file: %s\\n'%system_parameters_file)\n",
    "\n",
    "# Create the AOSLO instance\n",
    "myAOSLO = AOSLO_system.AOSLO(system_parameters_file)\n"
   ]
  },
  {
   "cell_type": "markdown",
   "metadata": {
    "deletable": false,
    "editable": false
   },
   "source": [
    "We can plot the scan pattern, noting that this is the motion of the scanners and so includes the forward and reverse scan of the resonant scanner and also the flyback (return path) of the slow scanner:"
   ]
  },
  {
   "cell_type": "code",
   "execution_count": 5,
   "metadata": {
    "scrolled": true
   },
   "outputs": [
    {
     "data": {
      "text/plain": [
       "Text(0.5, 1.0, 'Fast (horizontal) scan')"
      ]
     },
     "execution_count": 5,
     "metadata": {},
     "output_type": "execute_result"
    },
    {
     "data": {
      "image/png": "[encoded data removed]",
      "text/plain": [
       "<Figure size 720x288 with 2 Axes>"
      ]
     },
     "metadata": {
      "needs_background": "light"
     },
     "output_type": "display_data"
    }
   ],
   "source": [
    "# Create a figure\n",
    "fig_1 = pyplot.figure(1, figsize=(10,4))\n",
    "\n",
    "# Add two subplots\n",
    "ax1_1 = fig_1.add_subplot(121)\n",
    "ax1_2 = fig_1.add_subplot(122)\n",
    "\n",
    "# Plot the vertical scan\n",
    "ax1_1.plot(myAOSLO.time, myAOSLO.slow)\n",
    "# Plot the horizontal scan\n",
    "ax1_2.plot(myAOSLO.time, myAOSLO.fast)\n",
    "\n",
    "# Add some labels\n",
    "ax1_1.set_xlabel('Time (s)')\n",
    "ax1_1.set_ylabel('Position (pixels)')\n",
    "ax1_1.set_title('Slow (vertical) scan')\n",
    "\n",
    "ax1_2.set_xlabel('Time (s)')\n",
    "ax1_2.set_ylabel('Position (pixels)')\n",
    "ax1_2.set_title('Fast (horizontal) scan')"
   ]
  },
  {
   "cell_type": "markdown",
   "metadata": {
    "deletable": false,
    "editable": false
   },
   "source": [
    "Let's examine the first few scan lines to see the sinusoidal pattern:"
   ]
  },
  {
   "cell_type": "code",
   "execution_count": 6,
   "metadata": {},
   "outputs": [
    {
     "data": {
      "text/plain": [
       "(0.0, 0.0001)"
      ]
     },
     "execution_count": 6,
     "metadata": {},
     "output_type": "execute_result"
    },
    {
     "data": {
      "image/png": "[encoded data removed]",
      "text/plain": [
       "<Figure size 720x288 with 2 Axes>"
      ]
     },
     "metadata": {
      "needs_background": "light"
     },
     "output_type": "display_data"
    }
   ],
   "source": [
    "# Create a figure\n",
    "fig_2 = pyplot.figure(2, figsize=(10,4))\n",
    "\n",
    "# Add a subplot with two y-axes\n",
    "ax2_1_a = fig_2.add_subplot(111)\n",
    "ax2_1_b = ax2_1_a.twinx()\n",
    "\n",
    "# Plot the horizontal scan\n",
    "ax2_1_a.plot(myAOSLO.time, myAOSLO.fast, color='b')\n",
    "ax2_1_b.plot(myAOSLO.time, myAOSLO.scan_direction, color='g')\n",
    "\n",
    "# Add some labels\n",
    "ax2_1_a.set_xlabel('Time (s)')\n",
    "ax2_1_a.set_ylabel('Position (pixels)', color='b')\n",
    "ax2_1_b.set_ylabel('Scan direction (0 = reverse, 1 = forward)', color='g')\n",
    "ax2_1_a.set_title('Slow (vertical) scan')\n",
    "ax2_1_a.tick_params(axis='y', labelcolor='b')\n",
    "ax2_1_b.tick_params(axis='y', labelcolor='g')\n",
    "\n",
    "# Limit the x axis to examine a few scan lines\n",
    "ax2_1_a.set_xlim(0,0.0001)"
   ]
  },
  {
   "cell_type": "markdown",
   "metadata": {
    "deletable": false,
    "editable": false
   },
   "source": [
    "We can also interrogate any other parameters. Other than those in the parameter file (described above) and the time, fast scan position, slow scan position, and scan direction (indicated above), the following are also accessible:"
   ]
  },
  {
   "cell_type": "code",
   "execution_count": 7,
   "metadata": {},
   "outputs": [
    {
     "name": "stdout",
     "output_type": "stream",
     "text": [
      "The number of samples in one frame (including the flyback): 537600\n",
      "The time resolution (pixel time; seconds) is: 0.000000061\n",
      "Field of view (vertical, horizontal; arcminutes): 56.32, 56.32"
     ]
    },
    {
     "data": {
      "text/plain": [
       "63"
      ]
     },
     "execution_count": 7,
     "metadata": {},
     "output_type": "execute_result"
    }
   ],
   "source": [
    "sys.stdout.write('The number of samples in one frame (including the flyback): %i'%myAOSLO.n_samples)\n",
    "sys.stdout.write('\\nThe time resolution (pixel time; seconds) is: %.9f'%myAOSLO.time_resolution)\n",
    "sys.stdout.write('\\nField of view (vertical, horizontal; arcminutes): %.2f, %.2f'%(myAOSLO.fov[0], myAOSLO.fov[1]))\n"
   ]
  },
  {
   "cell_type": "markdown",
   "metadata": {
    "deletable": false,
    "editable": false
   },
   "source": [
    "We can retrieve any of the parameters given in the system parameter file by getting the value from the dictionary. For example:"
   ]
  },
  {
   "cell_type": "code",
   "execution_count": 8,
   "metadata": {},
   "outputs": [
    {
     "name": "stdout",
     "output_type": "stream",
     "text": [
      "The pixel size (arcminutes): [0.11, 0.11]"
     ]
    },
    {
     "data": {
      "text/plain": [
       "41"
      ]
     },
     "execution_count": 8,
     "metadata": {},
     "output_type": "execute_result"
    }
   ],
   "source": [
    "# The key for the pixel size is 'pixel_size_arcmin_y_x' - the vertical and horizontal size of the pixels (not constrained to be square)\n",
    "pixel_size = myAOSLO.parameters['pixel_size_arcmin_y_x']\n",
    "\n",
    "# Print it out to check it\n",
    "sys.stdout.write('The pixel size (arcminutes): [%.2f, %.2f]'%(pixel_size[0], pixel_size[1]))"
   ]
  },
  {
   "cell_type": "markdown",
   "metadata": {
    "deletable": false,
    "editable": false
   },
   "source": [
    "Whenever you use ERICA, it is important to ensure that you have created an AOSLO instance with the system parameter file to match your system. You'll see examples of this in later notebooks."
   ]
  }
 ],
 "metadata": {
  "kernelspec": {
   "display_name": "Python 3 (ipykernel)",
   "language": "python",
   "name": "python3"
  },
  "language_info": {
   "codemirror_mode": {
    "name": "ipython",
    "version": 3
   },
   "file_extension": ".py",
   "mimetype": "text/x-python",
   "name": "python",
   "nbconvert_exporter": "python",
   "pygments_lexer": "ipython3",
   "version": "3.8.13"
  }
 },
 "nbformat": 4,
 "nbformat_minor": 2
}
